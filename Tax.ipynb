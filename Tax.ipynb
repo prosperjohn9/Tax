{
  "nbformat": 4,
  "nbformat_minor": 0,
  "metadata": {
    "colab": {
      "provenance": [],
      "authorship_tag": "ABX9TyOx+DwVLyAc8Mnd8UW2c7OI",
      "include_colab_link": true
    },
    "kernelspec": {
      "name": "python3",
      "display_name": "Python 3"
    },
    "language_info": {
      "name": "python"
    }
  },
  "cells": [
    {
      "cell_type": "markdown",
      "metadata": {
        "id": "view-in-github",
        "colab_type": "text"
      },
      "source": [
        "<a href=\"https://colab.research.google.com/github/prosperjohn9/Tax/blob/main/Tax.ipynb\" target=\"_parent\"><img src=\"https://colab.research.google.com/assets/colab-badge.svg\" alt=\"Open In Colab\"/></a>"
      ]
    },
    {
      "cell_type": "markdown",
      "source": [
        "Create a program that will compute the tax and the tip for a meal ordered at a restaurant. Tax is 8 percent of the meal amount and the tip is 10 percent of the meal amount (without the tax). Output of the progam should include the tax amount, the tip amount and the grand total of the meal including the tax and the tip.\n",
        "\n",
        "a) Define the cost of the meal in the beginning of the program"
      ],
      "metadata": {
        "id": "FhC_Z23jg9PF"
      }
    },
    {
      "cell_type": "code",
      "source": [
        " cost = 100\n",
        " tax = cost * 0.08\n",
        " tip = cost * 0.1\n",
        " total = cost + tax + tip\n",
        " print(\"The tax is \" + str(tax) + \"TL and the tip is \" + str(tip) + \"TL, making the total \" + str(total) + (\"TL.\"))"
      ],
      "metadata": {
        "colab": {
          "base_uri": "https://localhost:8080/"
        },
        "id": "ejAVgf3GvwRg",
        "outputId": "0f5a1c7a-f139-40b5-d05a-04871a391bc2"
      },
      "execution_count": null,
      "outputs": [
        {
          "output_type": "stream",
          "name": "stdout",
          "text": [
            "The tax is 8.0TL and the tip is 10.0TL, making the total 118.0TL.\n"
          ]
        }
      ]
    },
    {
      "cell_type": "code",
      "source": [
        " cost = 68\n",
        " tax = cost * 0.08\n",
        " tip = cost * 0.1\n",
        " total = cost + tax + tip\n",
        " print(\"The tax is \" + str(tax) + \"TL and the tip is \" + str(tip) + \"TL, making the total \" + str(total) + (\"TL.\"))"
      ],
      "metadata": {
        "colab": {
          "base_uri": "https://localhost:8080/"
        },
        "id": "saTCXtD6xL6l",
        "outputId": "4f6df74d-207d-4a7b-d44d-d0f5e9a20b8d"
      },
      "execution_count": null,
      "outputs": [
        {
          "output_type": "stream",
          "name": "stdout",
          "text": [
            "The tax is 5.44TL and the tip is 6.800000000000001TL, making the total 80.24TL.\n"
          ]
        }
      ]
    },
    {
      "cell_type": "markdown",
      "source": [
        "b) Format the output so that all the values are displayed using two decimal places"
      ],
      "metadata": {
        "id": "cl-MDaEzxRM3"
      }
    },
    {
      "cell_type": "code",
      "source": [
        " cost = 68\n",
        " tax = cost * 0.08\n",
        " tip = cost * 0.1\n",
        " total = cost + tax + tip\n",
        " print(\"The tax is \" + format(tax, \".2f\") + \"TL and the tip is \" + format(tip, \".2f\") + \"TL, making the total \" + format(total, \".2f\") + (\"TL.\"))"
      ],
      "metadata": {
        "colab": {
          "base_uri": "https://localhost:8080/"
        },
        "id": "Cb2CQ-OpxulC",
        "outputId": "cd1d03ff-79ee-4fbc-99f8-0e3f5df27666"
      },
      "execution_count": null,
      "outputs": [
        {
          "output_type": "stream",
          "name": "stdout",
          "text": [
            "The tax is 5.44TL and the tip is 6.80TL, making the total 80.24TL.\n"
          ]
        }
      ]
    },
    {
      "cell_type": "markdown",
      "source": [
        "c) Input the cost of the meal from the user"
      ],
      "metadata": {
        "id": "etIqpn1ayJES"
      }
    },
    {
      "cell_type": "code",
      "source": [
        "cost = float(input(\"Please enter the cost of your meal: \"))\n",
        "tax = cost * 0.08\n",
        "tip = cost * 0.1\n",
        "total = cost + tax + tip\n",
        "print(\"The tax is \" + format(tax, \".2f\") + \"TL and the tip is \" + format(tip, \".2f\") + \"TL, making the total \" + format(total, \".2f\") + (\"TL.\"))"
      ],
      "metadata": {
        "colab": {
          "base_uri": "https://localhost:8080/"
        },
        "id": "Qax_WHRhybJS",
        "outputId": "6438927f-eb85-4f54-8289-233c0cced3cc"
      },
      "execution_count": null,
      "outputs": [
        {
          "output_type": "stream",
          "name": "stdout",
          "text": [
            "Please enter the cost of your meal: 220.86\n",
            "The tax is 17.67TL and the tip is 22.09TL, making the total 260.61TL.\n"
          ]
        }
      ]
    }
  ]
}